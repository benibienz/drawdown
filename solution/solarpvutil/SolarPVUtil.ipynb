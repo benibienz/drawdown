{
 "cells": [
  {
   "cell_type": "code",
   "execution_count": 1,
   "metadata": {},
   "outputs": [],
   "source": [
    "import ipywidgets\n",
    "from IPython.display import display, HTML\n",
    "import pandas as pd\n",
    "import matplotlib\n",
    "import matplotlib.pyplot as plt\n",
    "import sys\n",
    "%matplotlib inline\n",
    "\n",
    "sys.path.append('../..')\n",
    "\n",
    "from solution import solarpvutil\n",
    "\n",
    "pd.set_option('display.max_columns', 200)\n",
    "pd.set_option('display.max_rows', 200)\n",
    "\n",
    "spv = solarpvutil.SolarPVUtil()"
   ]
  },
  {
   "cell_type": "code",
   "execution_count": 3,
   "metadata": {},
   "outputs": [
    {
     "data": {
      "application/vnd.jupyter.widget-view+json": {
       "model_id": "e63f0c9d337e4a5c9d88f94e6044b090",
       "version_major": 2,
       "version_minor": 0
      },
      "text/plain": [
       "Tab(children=(Output(), Output(), VBox(children=(Output(),))), _titles={'0': 'Variable Meta-Analysis', '1': 'D…"
      ]
     },
     "metadata": {},
     "output_type": "display_data"
    }
   ],
   "source": [
    "variable_meta_analysis = ipywidgets.Output()\n",
    "with variable_meta_analysis:\n",
    "    display(ipywidgets.VBox(children=[\n",
    "        display(HTML(spv.r2s.conv_lifetime_years_vma.source_data.fillna('').to_html())),\n",
    "    ]))\n",
    "\n",
    "adoption_text = [[spv.ua.soln_pds_tot_iunits_reqd().loc[2050, 'World'],\n",
    "                 spv.ht.soln_pds_funits_adopted().loc[2050, 'World'],\n",
    "                 '', '', '']]\n",
    "adoption_columns = ['Global Solution Implementation Units in 2050',\n",
    "                    'Global Solution Functional Units in 2050',\n",
    "                    'Global Solution Adoption Share - Base Year (2014)',\n",
    "                    'Global Solution Adoption Share - Year 1: 2020',\n",
    "                    'Global Solution Adoption Share - Year 2: 2050']\n",
    "adoption_heading = ipywidgets.Output()\n",
    "with adoption_heading:\n",
    "    display(HTML(pd.DataFrame(adoption_text, columns=adoption_columns).to_html(index=False)))\n",
    "\n",
    "adoption_graphs = ipywidgets.Output()\n",
    "with adoption_graphs:\n",
    "    fig, ax = plt.subplots(nrows=1, ncols=2, figsize=(12, 4))\n",
    "    ax[0].set_title('World Adoption - Implementation Units (TW)')\n",
    "    spv.ua.soln_pds_tot_iunits_reqd()['World'].plot(ax=ax[0], xlim=(2020, 2050))\n",
    "    ax[1].set_title('World Growth of Solution - Functional Units (TWh)')\n",
    "    spv.tm.ref_tam_per_region()['World'].plot(ax=ax[1], legend=True, label='Total Market-REF', xlim=(2020, 2050))\n",
    "    spv.tm.pds_tam_per_region()['World'].plot(ax=ax[1], legend=True, label='Total Market-PDS', xlim=(2020, 2050))\n",
    "    spv.ht.soln_ref_funits_adopted()['World'].plot(ax=ax[1], legend=True, label='Solution-REF', xlim=(2020, 2050))\n",
    "    spv.ht.soln_pds_funits_adopted()['World'].plot(ax=ax[1], legend=True, label='Solution-PDS', xlim=(2020, 2050))\n",
    "    plt.show(fig)\n",
    "\n",
    "cost_graphs = ipywidgets.Output()\n",
    "with cost_graphs:\n",
    "    fig, ax = plt.subplots(nrows=1, ncols=3, figsize=(18, 4))\n",
    "    ax[0].set_title('World Operating Cost Difference')\n",
    "    ax[0].set_xlim(left=2010, right=2060)\n",
    "    ax[0].set_xlabel('Billions US$2014')\n",
    "    matplotlib.ticker.EngFormatter.ENG_PREFIXES[9] = 'B'\n",
    "    fmty = matplotlib.ticker.EngFormatter(sep='')\n",
    "    ax[0].yaxis.set_major_formatter(fmty)\n",
    "    spv.oc.soln_pds_annual_operating_cost().loc[2020:2050].plot(ax=ax[0], legend=True, label='Solution Operating Costs/Savings')\n",
    "    spv.oc.conv_ref_annual_operating_cost().loc[2020:2050].plot(ax=ax[0], legend=True, label='Conventional Operating Costs/Savings')\n",
    "    plt.show(fig)\n",
    "\n",
    "emissions_graphs = ipywidgets.Output()\n",
    "with emissions_graphs:\n",
    "    fig, ax = plt.subplots(nrows=1, ncols=2, figsize=(13, 4))\n",
    "    ax[0].set_title('World Cumulative Emissions Reductions (Gigatons CO2-eq)')\n",
    "    ax[0].set_xlim(left=2020, right=2050)\n",
    "    spv.c2.co2eq_mmt_reduced()['World'].cumsum().mul(0.001).plot(ax=ax[0], legend=False)\n",
    "    ax[1].set_title('World Cumulative GHG Concentrations Reduction  (PPM CO2-eq)')\n",
    "    ax[1].set_xlim(left=2020, right=2050)\n",
    "    spv.c2.co2eq_ppm_calculator()['CO2-eq PPM'].plot(ax=ax[1], legend=False)\n",
    "    plt.show(fig)\n",
    "\n",
    "detailed_results = ipywidgets.Output()\n",
    "with detailed_results:\n",
    "    display(ipywidgets.VBox([adoption_heading, adoption_graphs, cost_graphs, emissions_graphs]))\n",
    "\n",
    "oc_pds_breakout = ipywidgets.Output()\n",
    "with oc_pds_breakout:\n",
    "    display(HTML(spv.oc.soln_pds_annual_breakout().to_html()))\n",
    "\n",
    "operating_cost = ipywidgets.VBox([oc_pds_breakout])\n",
    "\n",
    "tabs = ipywidgets.Tab(children=[variable_meta_analysis, detailed_results, operating_cost])\n",
    "tabs.set_title(0, \"Variable Meta-Analysis\")\n",
    "tabs.set_title(1, \"Detailed Results\")\n",
    "tabs.set_title(2, \"Operating Cost\")\n",
    "display(tabs)"
   ]
  },
  {
   "cell_type": "code",
   "execution_count": null,
   "metadata": {},
   "outputs": [],
   "source": []
  }
 ],
 "metadata": {
  "kernelspec": {
   "display_name": "Python 3",
   "language": "python",
   "name": "python3"
  },
  "language_info": {
   "codemirror_mode": {
    "name": "ipython",
    "version": 3
   },
   "file_extension": ".py",
   "mimetype": "text/x-python",
   "name": "python",
   "nbconvert_exporter": "python",
   "pygments_lexer": "ipython3",
   "version": "3.7.0"
  }
 },
 "nbformat": 4,
 "nbformat_minor": 2
}
