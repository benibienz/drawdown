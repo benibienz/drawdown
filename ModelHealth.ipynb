{
 "cells": [
  {
   "cell_type": "markdown",
   "metadata": {},
   "source": [
    "**Model Health Dashboard**\n",
    "\n",
    "\n",
    "This dashboard reports statistics about the health of the collection of Drawdown solution models."
   ]
  },
  {
   "cell_type": "code",
   "execution_count": 1,
   "metadata": {},
   "outputs": [
    {
     "data": {
      "application/vnd.jupyter.widget-view+json": {
       "model_id": "cd7ba366cac744c886e65a006791258b",
       "version_major": 2,
       "version_minor": 0
      },
      "text/plain": [
       "HBox(children=(Figure(fig_margin={'left': 1, 'right': 1, 'top': 1, 'bottom': 1}, layout=Layout(min_width='125p…"
      ]
     },
     "metadata": {},
     "output_type": "display_data"
    }
   ],
   "source": [
    "import importlib\n",
    "import os.path\n",
    "\n",
    "import bqplot\n",
    "import IPython.display\n",
    "import ipywidgets\n",
    "import pandas as pd\n",
    "\n",
    "import solution.factory\n",
    "\n",
    "all_solutions = pd.read_csv(os.path.join('data', 'overview', 'solutions.csv'), index_col=False,\n",
    "                            skipinitialspace=True, header=0, skip_blank_lines=True, comment='#')\n",
    "total_solutions = len(all_solutions.index)\n",
    "py_solutions_scenarios = solution.factory.all_solutions_scenarios()\n",
    "\n",
    "num_py_solutions = len(list(py_solutions_scenarios.keys()))\n",
    "num_xl_solutions = total_solutions - num_py_solutions\n",
    "\n",
    "pds_adoption_basis_counts = {\n",
    "    'Linear': 0,\n",
    "    'Existing Adoption Prognostications': 0,\n",
    "    'S-Curve': 0,\n",
    "    'Fully Customized PDS': 0,\n",
    "    'Customized S-Curve Adoption': 0,\n",
    "}\n",
    "ref_adoption_basis_counts = {\n",
    "    'Default': 0,\n",
    "    'Custom': 0,\n",
    "}\n",
    "for name in py_solutions_scenarios.keys():\n",
    "    m = importlib.import_module('solution.'+name)\n",
    "    for scenario in m.scenarios.values():\n",
    "        pds_adoption_basis_counts[scenario.soln_pds_adoption_basis] += 1\n",
    "        ref_basis = scenario.soln_ref_adoption_basis\n",
    "        ref_basis = ref_basis if ref_basis is not None else 'Default'\n",
    "        ref_adoption_basis_counts[ref_basis] += 1\n",
    "\n",
    "soln_count_chart = bqplot.Pie(sizes=[num_xl_solutions, num_py_solutions], labels=['Excel only', 'Python & Excel'],\n",
    "                              display_values=True, values_format='d', display_labels='inside', radius=110)\n",
    "soln_count_fig = bqplot.Figure(marks=[soln_count_chart], title='Solution implementation')\n",
    "soln_count_fig.layout.width = '300px'\n",
    "soln_count_fig.fig_margin = {'left':1, 'right':1, 'top':1, 'bottom':1}\n",
    "pds_adoption_chart = bqplot.Pie(sizes=list(pds_adoption_basis_counts.values()),\n",
    "                                labels=list(pds_adoption_basis_counts.keys()),\n",
    "                                display_labels='outside', radius=140,\n",
    "                                sort=False, display_values=True, values_format='d')\n",
    "pds_adoption_fig = bqplot.Figure(marks=[pds_adoption_chart], title='PDS Adoption Basis')\n",
    "pds_adoption_fig.layout.width = '800px'\n",
    "pds_adoption_fig.fig_margin = {'left':1, 'right':1, 'top':1, 'bottom':1}\n",
    "\n",
    "ref_adoption_chart = bqplot.Pie(sizes=list(ref_adoption_basis_counts.values()),\n",
    "                                labels=list(ref_adoption_basis_counts.keys()),\n",
    "                                display_labels='inside', radius=110,\n",
    "                                display_values=True, values_format='d')\n",
    "ref_adoption_fig = bqplot.Figure(marks=[ref_adoption_chart], title='REF Adoption Basis')\n",
    "ref_adoption_fig.layout.width = '300px'\n",
    "ref_adoption_fig.fig_margin = {'left':1, 'right':1, 'top':1, 'bottom':1}\n",
    "\n",
    "ipywidgets.HBox([soln_count_fig, pds_adoption_fig, ref_adoption_fig])"
   ]
  },
  {
   "cell_type": "code",
   "execution_count": null,
   "metadata": {},
   "outputs": [],
   "source": []
  },
  {
   "cell_type": "code",
   "execution_count": null,
   "metadata": {},
   "outputs": [],
   "source": []
  }
 ],
 "metadata": {
  "kernelspec": {
   "display_name": "Python 3",
   "language": "python",
   "name": "python3"
  },
  "language_info": {
   "codemirror_mode": {
    "name": "ipython",
    "version": 3
   },
   "file_extension": ".py",
   "mimetype": "text/x-python",
   "name": "python",
   "nbconvert_exporter": "python",
   "pygments_lexer": "ipython3",
   "version": "3.7.3"
  }
 },
 "nbformat": 4,
 "nbformat_minor": 2
}
