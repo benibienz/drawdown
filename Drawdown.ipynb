{
 "cells": [
  {
   "cell_type": "markdown",
   "metadata": {},
   "source": [
    "[![Drawdown](data/images/drawdown_logo_clouds2.png)](https://drawdown.org)\n",
    "\n",
    "**[Project Drawdown](https://drawdown.org) is the most comprehensive plan ever proposed to reverse global warming.** We did not make or devise the plan &mdash; the plan exists and is being implemented worldwide. It has been difficult to envision this possibility because the focus is overwhelmingly on the impacts of climate change. We gathered a qualified and diverse group of researchers from around the world to identify, research, and model the 100 most substantive, existing solutions to address climate change. What was uncovered is a path forward that can roll back global greenhouse gas emissions within thirty years. The research revealed that humanity has the means and techniques at hand. Nothing new needs to be invented, yet many more solutions are coming due to purposeful human ingenuity. The solutions we modeled are in place and in action. Humanity’s task is to accelerate the knowledge and growth of what is possible as soon as possible."
   ]
  },
  {
   "cell_type": "markdown",
   "metadata": {},
   "source": [
    "**To use the model engine** run the first code cell to generate an overview of available solutions, each with a checkbox to generate detailed results. After selecting the desired solution(s), run the code cell below the overview to generate the models."
   ]
  },
  {
   "cell_type": "code",
   "execution_count": 2,
   "metadata": {},
   "outputs": [
    {
     "data": {
      "application/vnd.jupyter.widget-view+json": {
       "model_id": "6701aab65a1a4ee5ac72ebd9c6d15840",
       "version_major": 2,
       "version_minor": 0
      },
      "text/plain": [
       "HBox(children=(VBox(children=(HBox(children=(HTML(value='<div style=\"font-size:large;background-color:white;pa…"
      ]
     },
     "metadata": {},
     "output_type": "display_data"
    }
   ],
   "source": [
    "import ui.charts\n",
    "(overview, checkboxes) = ui.charts.get_overview()\n",
    "overview"
   ]
  },
  {
   "cell_type": "code",
   "execution_count": 3,
   "metadata": {},
   "outputs": [
    {
     "data": {
      "application/vnd.jupyter.widget-view+json": {
       "model_id": "49f05b21326742b991f2b392bba79456",
       "version_major": 2,
       "version_minor": 0
      },
      "text/plain": [
       "Tab(children=(Output(), Accordion(children=(Output(),), layout=Layout(width='90%'), _titles={'0': 'solution.bi…"
      ]
     },
     "metadata": {},
     "output_type": "display_data"
    }
   ],
   "source": [
    "solutions = ui.charts.get_solutions_from_checkboxes(checkboxes)\n",
    "display(ui.charts.get_detailed_results_tabs(solutions))"
   ]
  },
  {
   "cell_type": "code",
   "execution_count": null,
   "metadata": {},
   "outputs": [],
   "source": []
  },
  {
   "cell_type": "code",
   "execution_count": null,
   "metadata": {},
   "outputs": [],
   "source": []
  }
 ],
 "metadata": {
  "kernelspec": {
   "display_name": "Python 3",
   "language": "python",
   "name": "python3"
  },
  "language_info": {
   "codemirror_mode": {
    "name": "ipython",
    "version": 3
   },
   "file_extension": ".py",
   "mimetype": "text/x-python",
   "name": "python",
   "nbconvert_exporter": "python",
   "pygments_lexer": "ipython3",
   "version": "3.7.3"
  }
 },
 "nbformat": 4,
 "nbformat_minor": 2
}
