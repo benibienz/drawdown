{
 "cells": [
  {
   "cell_type": "markdown",
   "metadata": {},
   "source": [
    "[![Drawdown](data/images/drawdown_logo_clouds2.png)](https://drawdown.org)\n",
    "\n",
    "**[Project Drawdown](https://drawdown.org)** is a living research and communications organization that assesses, maps, models, and describes the potential of the most substantive solutions to achieve drawdown by 2050. It is a collaborative effort of over 200 researchers, policymakers, businesses, thought leaders, and organizations developing a model to enable action and implementation throughout the world. Our common mission is to do our part in solving global warming, by enabling a new, regenerative ‘business-as-usual’ that has cascading benefits to human well-being in concert with nature, while training the next generation of global citizens and thought-leaders. \n",
    "\n",
    "Our aim is to democratize and extend this model and approach to collective impact far and wide. To achieve that, we have been working with partners across the world to help seed replications and the expansion of the model in-place, to nurture and support a thriving ecosystem based on self-organizing, networked sparks wherever Drawdown has taken root.\n",
    "+ There is a **[Getting Started Guide](http://bit.ly/DrawdownSolutionsGettingStarted)**  \n",
    "+ There is a **[video demonstrating](http://bit.ly/DrawdownSolutionsGettingStartedVideo)** how to use the system  \n",
    "+ If you run into trouble or need assistance, the **[Community Forum](https://solutions.geekhold.com/services/discourse/)** can help.  "
   ]
  },
  {
   "cell_type": "code",
   "execution_count": null,
   "metadata": {},
   "outputs": [],
   "source": [
    "import ui.charts\n",
    "s = ui.charts.JupyterUI()\n",
    "s.get_overview()"
   ]
  },
  {
   "cell_type": "code",
   "execution_count": null,
   "metadata": {},
   "outputs": [],
   "source": [
    "display(s.get_detailed_results_tabs())"
   ]
  },
  {
   "cell_type": "code",
   "execution_count": null,
   "metadata": {},
   "outputs": [],
   "source": []
  },
  {
   "cell_type": "code",
   "execution_count": null,
   "metadata": {},
   "outputs": [],
   "source": []
  }
 ],
 "metadata": {
  "kernelspec": {
   "display_name": "Python 3",
   "language": "python",
   "name": "python3"
  },
  "language_info": {
   "codemirror_mode": {
    "name": "ipython",
    "version": 3
   },
   "file_extension": ".py",
   "mimetype": "text/x-python",
   "name": "python",
   "nbconvert_exporter": "python",
   "pygments_lexer": "ipython3",
   "version": "3.7.3"
  }
 },
 "nbformat": 4,
 "nbformat_minor": 2
}
