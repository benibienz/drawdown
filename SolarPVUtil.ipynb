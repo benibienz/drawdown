{
 "cells": [
  {
   "cell_type": "code",
   "execution_count": 1,
   "metadata": {},
   "outputs": [],
   "source": [
    "import advanced_controls\n",
    "import ipywidgets as widgets\n",
    "import pandas as pd\n",
    "from solution import solarpvutil\n",
    "\n",
    "pd.set_option('display.max_columns', 200)\n",
    "pd.set_option('display.max_rows', 200)\n",
    "\n",
    "spv = solarpvutil.SolarPVUtil()"
   ]
  },
  {
   "cell_type": "code",
   "execution_count": 2,
   "metadata": {},
   "outputs": [
    {
     "data": {
      "application/vnd.jupyter.widget-view+json": {
       "model_id": "37d1eb97eb674e5bac82d3fe555f2c60",
       "version_major": 2,
       "version_minor": 0
      },
      "text/plain": [
       "HBox(children=(HTML(value='CONVENTIONAL First Cost per IUnit<span style=\"font-size:8pt;line-height:1.0;\"><br/>…"
      ]
     },
     "metadata": {},
     "output_type": "display_data"
    }
   ],
   "source": [
    "widgets.HBox([widgets.HTML(value='CONVENTIONAL First Cost per IUnit<span style=\"font-size:8pt;line-height:1.0;\"><br/>for replaced practices/technologies</span>'),\n",
    "              widgets.FloatText(spv.ac.conv_2014_cost)])\n"
   ]
  },
  {
   "cell_type": "code",
   "execution_count": null,
   "metadata": {},
   "outputs": [],
   "source": []
  }
 ],
 "metadata": {
  "kernelspec": {
   "display_name": "drawdown",
   "language": "python",
   "name": "drawdown"
  },
  "language_info": {
   "codemirror_mode": {
    "name": "ipython",
    "version": 3
   },
   "file_extension": ".py",
   "mimetype": "text/x-python",
   "name": "python",
   "nbconvert_exporter": "python",
   "pygments_lexer": "ipython3",
   "version": "3.7.0"
  }
 },
 "nbformat": 4,
 "nbformat_minor": 2
}
