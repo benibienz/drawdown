{
 "cells": [
  {
   "cell_type": "code",
   "execution_count": 6,
   "metadata": {},
   "outputs": [],
   "source": [
    "import os.path\n",
    "import bqplot\n",
    "import ui.charts\n",
    "import ui.vega\n",
    "from IPython.display import display, HTML\n",
    "import ipywidgets\n",
    "import numpy as np\n",
    "import pandas as pd\n",
    "\n",
    "solutions = pd.read_csv(os.path.join('data', 'overview', 'solutions.csv'),\n",
    "                                    index_col=False, skipinitialspace=True, header=0,\n",
    "                                    skip_blank_lines=True, comment='#')\n",
    "soln_results = pd.read_csv(os.path.join('data', 'overview', 'populationdemo.csv'),\n",
    "                                    index_col=False, skipinitialspace=True, header=0,\n",
    "                                    skip_blank_lines=True, comment='#')\n",
    "solutions = solutions.merge(soln_results, on='Solution', how='left')\n",
    "\n",
    "soln_data = solutions['CO2eq-pop9B'].tolist()\n",
    "soln_labels = solutions['Solution'].tolist()\n",
    "soln_colors = solutions['Sector'].apply(ui.vega.get_sector_color).tolist()\n",
    "soln_tt = bqplot.Tooltip(fields=['label', 'size'], formats=['', '0.1f'], labels=['Name', 'GTons-CO2'])\n",
    "soln_pie = bqplot.Pie(sizes=soln_data, display_labels='none', labels=soln_labels, sort=True, tooltip=soln_tt,\n",
    "                 display_values=True, values_format='.1f', radius=170, inner_radius=150,\n",
    "                 colors=soln_colors, stroke='Gainsboro')\n",
    "soln_pie.tooltip_style = {'opacity': 0.7, 'background-color': 'White', 'border': 'none', 'border-collapse': 'collapse'}\n",
    "\n",
    "sectors = solutions.pivot_table(index='Sector',aggfunc=sum)\n",
    "solutions['CO2eq'] = solutions['CO2eq-pop9B']\n",
    "solutions['SectorCO2eq'] = solutions.apply(lambda row: sectors.loc[row['Sector'], 'CO2eq-pop9B'], axis=1)\n",
    "sctr_data = sectors['CO2eq-pop9B'].tolist()\n",
    "sctr_labels = sectors.index.tolist()\n",
    "sctr_colors = [get_color(v) for v in sctr_labels]\n",
    "sctr_tt = bqplot.Tooltip(fields=['label', 'size'], formats=['', '0.1f'], labels=['Name', 'GTons-CO2eq'])\n",
    "sctr_pie = bqplot.Pie(sizes=sctr_data, display_labels='none', labels=sctr_labels, sort=True, tooltip=sctr_tt,\n",
    "                 display_values=True, values_format='.1f', radius=138, inner_radius=118,\n",
    "                 colors=sctr_colors, stroke='Gainsboro')\n",
    "sctr_pie.tooltip_style = {'opacity': 0.7, 'background-color': 'White', 'border': 'none', 'border-collapse': 'collapse'}\n",
    "solution_chart = bqplot.Figure(marks=[soln_pie, sctr_pie], animation_duration=1000)\n",
    "solution_chart.background_style = {'fill': 'White'}\n",
    "\n",
    "def get_solution_html():\n",
    "    return (solutions.sort_values(['CO2eq'], ascending=False).loc[:,['Solution', 'Sector', 'CO2eq']].fillna(0.0)\n",
    "        .style.format({'CO2eq':'{:.02f}'}).set_table_styles(ui.charts.dataframe_css_styles)\n",
    "        .hide_index().render())\n",
    "    \n",
    "solution_list = ipywidgets.HTML(get_solution_html())"
   ]
  },
  {
   "cell_type": "code",
   "execution_count": 7,
   "metadata": {},
   "outputs": [
    {
     "data": {
      "application/vnd.jupyter.widget-view+json": {
       "model_id": "28afa1ec60d544bfa9f428ba0b4fe027",
       "version_major": 2,
       "version_minor": 0
      },
      "text/plain": [
       "interactive(children=(FloatSlider(value=10.0, continuous_update=False, description='Pop (B):', max=10.0, min=8…"
      ]
     },
     "metadata": {},
     "output_type": "display_data"
    },
    {
     "data": {
      "application/vnd.jupyter.widget-view+json": {
       "model_id": "e8df674b280f4b3692257a288d3ecd99",
       "version_major": 2,
       "version_minor": 0
      },
      "text/plain": [
       "HBox(children=(HTML(value='<style  type=\"text/css\" >\\n    #T_96c382f8_5dff_11e9_8ba5_9cf387cc381e th {\\n      …"
      ]
     },
     "metadata": {},
     "output_type": "display_data"
    }
   ],
   "source": [
    "pop = ipywidgets.FloatSlider(\n",
    "    value=10.0,\n",
    "    min=8.0,\n",
    "    max=10.0,\n",
    "    step=0.01,\n",
    "    description='Pop (B):',\n",
    "    disabled=False,\n",
    "    continuous_update=False,\n",
    "    orientation='horizontal',\n",
    "    readout=True,\n",
    "    readout_format='.2f',\n",
    ")\n",
    "\n",
    "cap = ipywidgets.FloatSlider(\n",
    "    value=0.0,\n",
    "    min=0.0,\n",
    "    max=5.0,\n",
    "    step=0.01,\n",
    "    description='Cap (US$T):',\n",
    "    disabled=False,\n",
    "    continuous_update=False,\n",
    "    orientation='horizontal',\n",
    "    readout=True,\n",
    "    readout_format='.2f',\n",
    ")\n",
    "\n",
    "def update_solutions(population, capital):\n",
    "    delta_pop = (solutions['CO2eq-pop9B'] - solutions['CO2eq-pop8B']) * ((population - 8.0) / 2.0)\n",
    "    delta_cap = (solutions['CO2eq-fc5T'] - solutions['CO2eq-fc0T']) * (capital / 5.0)\n",
    "    solutions['CO2eq'] = solutions['CO2eq-pop8B'] + delta_pop + delta_cap\n",
    "    soln_pie.sizes = solutions['CO2eq'].tolist()\n",
    "    sectors = solutions.pivot_table(index='Sector',aggfunc=sum)\n",
    "    solutions['SectorCO2eq'] = solutions.apply(lambda row: sectors.loc[row['Sector'], 'CO2eq'], axis=1)\n",
    "    sctr_pie.sizes = sectors['CO2eq'].tolist()\n",
    "    solution_list.value = get_solution_html()\n",
    "\n",
    "p = ipywidgets.interactive(update_solutions, population=pop, capital=cap)\n",
    "display(p)\n",
    "\n",
    "h = ipywidgets.HBox(children=[solution_list, solution_chart])\n",
    "h.layout.justify_content = 'space-between'\n",
    "h"
   ]
  },
  {
   "cell_type": "code",
   "execution_count": 4,
   "metadata": {},
   "outputs": [],
   "source": []
  },
  {
   "cell_type": "code",
   "execution_count": null,
   "metadata": {},
   "outputs": [],
   "source": []
  }
 ],
 "metadata": {
  "kernelspec": {
   "display_name": "Python 3",
   "language": "python",
   "name": "python3"
  },
  "language_info": {
   "codemirror_mode": {
    "name": "ipython",
    "version": 3
   },
   "file_extension": ".py",
   "mimetype": "text/x-python",
   "name": "python",
   "nbconvert_exporter": "python",
   "pygments_lexer": "ipython3",
   "version": "3.7.3"
  }
 },
 "nbformat": 4,
 "nbformat_minor": 2
}
