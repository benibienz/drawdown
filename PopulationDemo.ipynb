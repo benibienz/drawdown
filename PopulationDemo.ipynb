{
 "cells": [
  {
   "cell_type": "code",
   "execution_count": 1,
   "metadata": {},
   "outputs": [],
   "source": [
    "import os.path\n",
    "import bqplot\n",
    "from IPython.display import display, HTML\n",
    "import ipywidgets\n",
    "import numpy as np\n",
    "import pandas as pd\n",
    "\n",
    "solutions = pd.read_csv(os.path.join('data', 'overview', 'solutions.csv'),\n",
    "                                    index_col=False, skipinitialspace=True, header=0,\n",
    "                                    skip_blank_lines=True, comment='#')\n",
    "soln_results = pd.read_csv(os.path.join('data', 'overview', 'populationdemo.csv'),\n",
    "                                    index_col=False, skipinitialspace=True, header=0,\n",
    "                                    skip_blank_lines=True, comment='#')\n",
    "soln_results.drop(columns='Sector', inplace=True)\n",
    "solutions = solutions.merge(soln_results, on='Solution', how='left')\n",
    "\n",
    "colormap = {\n",
    "    'Materials': 'RebeccaPurple',\n",
    "    'Electricity Generation': 'Peru',\n",
    "    'Food': 'FireBrick',\n",
    "    'Land Use': 'Green',\n",
    "    'Women and Girls': 'DarkGoldenRod',\n",
    "    'Transport': 'Teal',\n",
    "    'Buildings and Cities': 'SteelBlue',\n",
    "}\n",
    "\n",
    "def get_color(sector):\n",
    "    return colormap.get(sector, 'Beige')\n",
    "\n",
    "# Set CSS properties for th elements in dataframe\n",
    "th_props = [\n",
    "  ('font-size', '13px'),\n",
    "  ('text-align', 'center'),\n",
    "  ('font-weight', 'bold'),\n",
    "  ('color', '#6d6d6d'),\n",
    "  ('background-color', '#f7f7f9')\n",
    "  ]\n",
    "\n",
    "# Set CSS properties for td elements in dataframe\n",
    "td_props = [\n",
    "  ('font-size', '12px'),\n",
    "  ('font-family', 'monospace')\n",
    "  ]\n",
    "\n",
    "# Set table styles\n",
    "dataframe_styles = [\n",
    "  dict(selector=\"th\", props=th_props),\n",
    "  dict(selector=\"td\", props=td_props)\n",
    "  ]\n",
    "\n",
    "soln_data = solutions['CO2eq-pop9B'].tolist()\n",
    "soln_labels = solutions['Solution'].tolist()\n",
    "soln_colors = solutions['Sector'].apply(get_color).tolist()\n",
    "soln_tt = bqplot.Tooltip(fields=['label', 'size'], formats=['', '0.1f'], labels=['Name', 'GTons-CO2'])\n",
    "soln_pie = bqplot.Pie(sizes=soln_data, display_labels='none', labels=soln_labels, sort=True, tooltip=soln_tt,\n",
    "                 display_values=True, values_format='.1f', radius=170, inner_radius=150,\n",
    "                 colors=soln_colors, stroke='Gainsboro')\n",
    "soln_pie.tooltip_style = {'opacity': 0.7, 'background-color': 'White', 'border': 'none', 'border-collapse': 'collapse'}\n",
    "\n",
    "sectors = solutions.pivot_table(index='Sector',aggfunc=sum)\n",
    "solutions['CO2eq'] = solutions['CO2eq-pop9B']\n",
    "solutions['SectorCO2eq'] = solutions.apply(lambda row: sectors.loc[row['Sector'], 'CO2eq-pop9B'], axis=1)\n",
    "sctr_data = sectors['CO2eq-pop9B'].tolist()\n",
    "sctr_labels = sectors.index.tolist()\n",
    "sctr_colors = [get_color(v) for v in sctr_labels]\n",
    "sctr_tt = bqplot.Tooltip(fields=['label', 'size'], formats=['', '0.1f'], labels=['Name', 'GTons-CO2eq'])\n",
    "sctr_pie = bqplot.Pie(sizes=sctr_data, display_labels='none', labels=sctr_labels, sort=True, tooltip=sctr_tt,\n",
    "                 display_values=True, values_format='.1f', radius=138, inner_radius=118,\n",
    "                 colors=sctr_colors, stroke='Gainsboro')\n",
    "sctr_pie.tooltip_style = {'opacity': 0.7, 'background-color': 'White', 'border': 'none', 'border-collapse': 'collapse'}\n",
    "solution_chart = bqplot.Figure(marks=[soln_pie, sctr_pie], animation_duration=1000)\n",
    "solution_chart.background_style = {'fill': 'White'}"
   ]
  },
  {
   "cell_type": "code",
   "execution_count": 2,
   "metadata": {},
   "outputs": [],
   "source": [
    "def get_solution_html():\n",
    "    return (solutions.sort_values(['CO2eq'], ascending=False)\n",
    "                  .loc[:,['Solution', 'Sector', 'CO2eq']].fillna('')\n",
    "                  .style.format({'CO2eq':'{:.02f}'}).set_table_styles(dataframe_styles)\n",
    "                  .hide_index().render())\n",
    "\n",
    "solution_list = ipywidgets.HTML(get_solution_html())"
   ]
  },
  {
   "cell_type": "code",
   "execution_count": 3,
   "metadata": {},
   "outputs": [
    {
     "data": {
      "application/vnd.jupyter.widget-view+json": {
       "model_id": "ba4b0bbdb6634e91b82c5c2bcf743b12",
       "version_major": 2,
       "version_minor": 0
      },
      "text/plain": [
       "interactive(children=(FloatSlider(value=10.0, continuous_update=False, description='Pop (B):', max=10.0, min=8…"
      ]
     },
     "metadata": {},
     "output_type": "display_data"
    },
    {
     "data": {
      "application/vnd.jupyter.widget-view+json": {
       "model_id": "7f2068cc602747c69d033b5a8c0a24ba",
       "version_major": 2,
       "version_minor": 0
      },
      "text/plain": [
       "HBox(children=(HTML(value='<style  type=\"text/css\" >\\n    #T_68630ad8_32f2_11e9_92de_9cf387cc381e th {\\n      …"
      ]
     },
     "metadata": {},
     "output_type": "display_data"
    }
   ],
   "source": [
    "pop = ipywidgets.FloatSlider(\n",
    "    value=10.0,\n",
    "    min=8.0,\n",
    "    max=10.0,\n",
    "    step=0.01,\n",
    "    description='Pop (B):',\n",
    "    disabled=False,\n",
    "    continuous_update=False,\n",
    "    orientation='horizontal',\n",
    "    readout=True,\n",
    "    readout_format='.2f',\n",
    ")\n",
    "\n",
    "cap = ipywidgets.FloatSlider(\n",
    "    value=0.0,\n",
    "    min=0.0,\n",
    "    max=5.0,\n",
    "    step=0.01,\n",
    "    description='Cap (US$T):',\n",
    "    disabled=False,\n",
    "    continuous_update=False,\n",
    "    orientation='horizontal',\n",
    "    readout=True,\n",
    "    readout_format='.2f',\n",
    ")\n",
    "\n",
    "def update_solutions(population, capital):\n",
    "    delta_pop = (solutions['CO2eq-pop9B'] - solutions['CO2eq-pop8B']) * ((population - 8.0) / 2.0)\n",
    "    delta_cap = (solutions['CO2eq-fc5T'] - solutions['CO2eq-fc0T']) * (capital / 5.0)\n",
    "    solutions['CO2eq'] = solutions['CO2eq-pop8B'] + delta_pop + delta_cap\n",
    "    soln_pie.sizes = solutions['CO2eq'].tolist()\n",
    "    sectors = solutions.pivot_table(index='Sector',aggfunc=sum)\n",
    "    solutions['SectorCO2eq'] = solutions.apply(lambda row: sectors.loc[row['Sector'], 'CO2eq'], axis=1)\n",
    "    sctr_pie.sizes = sectors['CO2eq'].tolist()\n",
    "    solution_list.value = get_solution_html()\n",
    "\n",
    "p = ipywidgets.interactive(update_solutions, population=pop, capital=cap)\n",
    "display(p)\n",
    "\n",
    "h = ipywidgets.HBox(children=[solution_list, solution_chart])\n",
    "h.layout.justify_content = 'space-between'\n",
    "h"
   ]
  },
  {
   "cell_type": "code",
   "execution_count": 4,
   "metadata": {},
   "outputs": [],
   "source": [
    "solutions['CO2eq'] = solutions['CO2eq-pop9B']\n",
    "solutions['CO2eq-fc0T'] = solutions['CO2eq-pop9B']\n",
    "solutions['CO2eq-fc5T'] = solutions['CO2eq-pop9B']\n",
    "solutions.loc[:, ['Solution', 'CO2eq-pop9B', 'CO2eq-pop8B', 'CO2eq-fc0T', 'CO2eq-fc5T']].to_csv('data/overview/populationdemo.csv', index=False)"
   ]
  },
  {
   "cell_type": "code",
   "execution_count": null,
   "metadata": {},
   "outputs": [],
   "source": []
  }
 ],
 "metadata": {
  "kernelspec": {
   "display_name": "Python 3",
   "language": "python",
   "name": "python3"
  },
  "language_info": {
   "codemirror_mode": {
    "name": "ipython",
    "version": 3
   },
   "file_extension": ".py",
   "mimetype": "text/x-python",
   "name": "python",
   "nbconvert_exporter": "python",
   "pygments_lexer": "ipython3",
   "version": "3.6.8"
  }
 },
 "nbformat": 4,
 "nbformat_minor": 2
}
